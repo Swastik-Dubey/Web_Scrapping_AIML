{
 "cells": [
  {
   "cell_type": "markdown",
   "id": "ce887369",
   "metadata": {},
   "source": [
    "Problem 1\n",
    "\n",
    "Write a web scraping script which takes an input of any film actor and gives the output of filmography of that actor in descending order.\n",
    "\n",
    "Use web scraping method\n",
    "\n",
    "Eg : \n",
    "input [Leonardo DiCaprio]\n",
    "Output : Films done by Leonardo DiCaprio in descending order\n",
    "\n",
    "\n"
   ]
  },
  {
   "cell_type": "code",
   "execution_count": 9,
   "id": "0914334b",
   "metadata": {},
   "outputs": [
    {
     "name": "stdout",
     "output_type": "stream",
     "text": [
      "Enter the name of the actor: Leonardo DiCaprio\n",
      "Films done by Leonardo DiCaprio in descending order:\n",
      "1. Killers of the Flower Moon-2023\n",
      "2. Don't Look Up-2021\n",
      "3. Once Upon a Time... In Hollywood-2019\n",
      "4. Lil Dicky: Earth-2019\n",
      "5. The Revenant-2015\n",
      "6. The Audition-2015\n",
      "7. The Wolf of Wall Street-2013\n",
      "8. The Great Gatsby-2013\n",
      "9. Titanic: Deleted Scenes-2012\n",
      "10. Django Unchained-2012\n",
      "11. J. Edgar-2011\n",
      "12. Inception: The Cobol Job-2010\n",
      "13. Inception-2010\n",
      "14. Shutter Island-2010\n",
      "15. Revolutionary Road-2008\n"
     ]
    }
   ],
   "source": [
    "import requests\n",
    "from bs4 import BeautifulSoup\n",
    "\n",
    "def get_filmography(actor_name):\n",
    "    # IMDb URL for actor search\n",
    "    base_url=f'https://www.imdb.com/find/?q={actor_name.replace(\" \", \"+\")}&ref_=nv_sr_sm'\n",
    "    headers = {\n",
    "    \"User-Agent\": \"Mozilla/5.0 (Windows NT 10.0; Win64; x64) AppleWebKit/537.36 (KHTML, like Gecko) Chrome/58.0.3029.110 Safari/537.3\"\n",
    "        }\n",
    "    # Send a GET request to the URL and get the HTML content\n",
    "    response = requests.get(base_url, headers=headers)\n",
    "    if response.status_code != 200:\n",
    "        print(\"Error: Unable to fetch the actor's filmography.\")\n",
    "        return\n",
    "    # Parse the HTML content\n",
    "    soup = BeautifulSoup(response.content, \"html.parser\")\n",
    "    \n",
    "    # Find the link to the actor's filmography page\n",
    "    bigbox = soup.find_all(\"div\" ,{\"class\":\"ipc-metadata-list-summary-item__tc\"} )\n",
    "    actor_page_link = \"https://www.imdb.com/\"+bigbox[0].a['href']\n",
    "\n",
    "    # Fetch the actor's filmography page\n",
    "    rocuct_req = requests.get(actor_page_link, headers=headers)\n",
    "    if rocuct_req.status_code != 200:\n",
    "        print(\"Error: Unable to fetch the actor's filmography.\")\n",
    "        return []\n",
    "\n",
    "    soup1 = BeautifulSoup(rocuct_req.content, 'html.parser')\n",
    "\n",
    "    # Extract filmography details\n",
    "    filmography = []\n",
    "    filmography_section = soup1.find(\"div\", {\"id\": \"accordion-item-actor-previous-projects\"})\n",
    "    if filmography_section:\n",
    "        projects_list = filmography_section.find_all(\"li\", class_=\"ipc-metadata-list-summary-item\")\n",
    "        for project in projects_list:\n",
    "            title = project.find(\"a\", class_=\"ipc-metadata-list-summary-item__t\").text.strip()\n",
    "            year = project.find(\"span\", class_=\"ipc-metadata-list-summary-item__li\").text.strip()\n",
    "            film_title = f\"{title}-{year}\"\n",
    "            filmography.append(film_title)\n",
    "\n",
    "    return filmography\n",
    "\n",
    "if __name__ == \"__main__\":\n",
    "    actor_name = input(\"Enter the name of the actor: \")\n",
    "    filmography = get_filmography(actor_name)\n",
    "\n",
    "    if filmography:\n",
    "        print(f\"Films done by {actor_name} in descending order:\")\n",
    "        for index, film in enumerate(filmography):\n",
    "            print(f\"{index+1}. {film}\")\n",
    "    else:\n",
    "        print(f\"No filmography found for {actor_name}.\")\n"
   ]
  },
  {
   "cell_type": "markdown",
   "id": "46adf8df",
   "metadata": {},
   "source": [
    "Problem 2\n",
    "\n",
    "Given a list of planets discovered by KEPLER.\n",
    "\n",
    "Kepler Data: https://drive.google.com/drive/folders/1GwqC4STc_KgVPofacQUzKHBMHQsmflvY?usp=sharing\n",
    "\n",
    "Create an ML algorithm to classify the planets as Candidate/False positive/Confirmed etc based on the  column “koi_disposition”.\n"
   ]
  },
  {
   "cell_type": "code",
   "execution_count": null,
   "id": "e7dee817",
   "metadata": {},
   "outputs": [],
   "source": []
  }
 ],
 "metadata": {
  "kernelspec": {
   "display_name": "Python 3 (ipykernel)",
   "language": "python",
   "name": "python3"
  },
  "language_info": {
   "codemirror_mode": {
    "name": "ipython",
    "version": 3
   },
   "file_extension": ".py",
   "mimetype": "text/x-python",
   "name": "python",
   "nbconvert_exporter": "python",
   "pygments_lexer": "ipython3",
   "version": "3.10.9"
  }
 },
 "nbformat": 4,
 "nbformat_minor": 5
}
